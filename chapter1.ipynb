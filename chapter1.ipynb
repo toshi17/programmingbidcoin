{
 "cells": [
  {
   "cell_type": "code",
   "execution_count": 1,
   "id": "fixed-waste",
   "metadata": {},
   "outputs": [
    {
     "name": "stdout",
     "output_type": "stream",
     "text": [
      "False\n",
      "True\n"
     ]
    }
   ],
   "source": [
    "from field_element import FieldElement\n",
    "\n",
    "a = FieldElement(7, 13)\n",
    "b = FieldElement(6, 13)\n",
    "print(a == b)\n",
    "print(a == a)"
   ]
  },
  {
   "cell_type": "code",
   "execution_count": 2,
   "id": "european-defense",
   "metadata": {},
   "outputs": [
    {
     "name": "stderr",
     "output_type": "stream",
     "text": [
      ".\n",
      "----------------------------------------------------------------------\n",
      "Ran 1 test in 0.001s\n",
      "\n",
      "OK\n"
     ]
    },
    {
     "data": {
      "text/plain": [
       "<unittest.runner.TextTestResult run=1 errors=0 failures=0>"
      ]
     },
     "execution_count": 2,
     "metadata": {},
     "output_type": "execute_result"
    }
   ],
   "source": [
    "# exercize 1\n",
    "from field_element_test import FieldElementTest\n",
    "from unittest import TestSuite, TextTestRunner\n",
    "\n",
    "suite = TestSuite()\n",
    "suite.addTest(FieldElementTest(\"test_ne\"))\n",
    "TextTestRunner().run(suite)"
   ]
  },
  {
   "cell_type": "code",
   "execution_count": 3,
   "id": "periodic-heater",
   "metadata": {},
   "outputs": [
    {
     "name": "stdout",
     "output_type": "stream",
     "text": [
      "FieldElement_57(20)\n",
      "FieldElement_57(37)\n",
      "FieldElement_57(51)\n",
      "FieldElement_57(41)\n"
     ]
    }
   ],
   "source": [
    "# exercize 2\n",
    "print(FieldElement(44, 57) + FieldElement(33, 57))\n",
    "print(FieldElement(9, 57) - FieldElement(29, 57))\n",
    "print(FieldElement(17, 57) + FieldElement(42, 57) + FieldElement(49, 57))\n",
    "print(FieldElement(52, 57) - FieldElement(30, 57) - FieldElement(38, 57))"
   ]
  },
  {
   "cell_type": "code",
   "execution_count": 4,
   "id": "dangerous-stopping",
   "metadata": {},
   "outputs": [
    {
     "name": "stderr",
     "output_type": "stream",
     "text": [
      ".\n",
      "----------------------------------------------------------------------\n",
      "Ran 1 test in 0.001s\n",
      "\n",
      "OK\n"
     ]
    },
    {
     "data": {
      "text/plain": [
       "<unittest.runner.TextTestResult run=1 errors=0 failures=0>"
      ]
     },
     "execution_count": 4,
     "metadata": {},
     "output_type": "execute_result"
    }
   ],
   "source": [
    "# exercize 3\n",
    "from field_element_test import FieldElementTest\n",
    "from unittest import TestSuite, TextTestRunner\n",
    "\n",
    "suite = TestSuite()\n",
    "suite.addTest(FieldElementTest(\"test_sub\"))\n",
    "TextTestRunner().run(suite)"
   ]
  },
  {
   "cell_type": "code",
   "execution_count": 5,
   "id": "geological-adoption",
   "metadata": {},
   "outputs": [
    {
     "name": "stdout",
     "output_type": "stream",
     "text": [
      "FieldElement_97(23)\n",
      "FieldElement_97(68)\n"
     ]
    }
   ],
   "source": [
    "# exercize 4\n",
    "print(FieldElement(95, 97) * FieldElement(45, 97) * FieldElement(31, 97))\n",
    "print(FieldElement(17, 97) * FieldElement(13, 97) * FieldElement(19, 97) * FieldElement(44, 97) )"
   ]
  },
  {
   "cell_type": "code",
   "execution_count": 6,
   "id": "threaded-moses",
   "metadata": {
    "scrolled": true
   },
   "outputs": [
    {
     "name": "stdout",
     "output_type": "stream",
     "text": [
      "k=1\n",
      "0, 1, 2, 3, 4, 5, 6, 7, 8, 9, 10, 11, 12, 13, 14, 15, 16, 17, 18, \n",
      "k=3\n",
      "0, 3, 6, 9, 12, 15, 18, 2, 5, 8, 11, 14, 17, 1, 4, 7, 10, 13, 16, \n",
      "k=7\n",
      "0, 7, 14, 2, 9, 16, 4, 11, 18, 6, 13, 1, 8, 15, 3, 10, 17, 5, 12, \n",
      "k=13\n",
      "0, 13, 7, 1, 14, 8, 2, 15, 9, 3, 16, 10, 4, 17, 11, 5, 18, 12, 6, \n",
      "k=18\n",
      "0, 18, 17, 16, 15, 14, 13, 12, 11, 10, 9, 8, 7, 6, 5, 4, 3, 2, 1, \n"
     ]
    }
   ],
   "source": [
    "# exercize 5\n",
    "for k in [1, 3, 7, 13, 18]:\n",
    "    print('k={}'.format(k))\n",
    "    for i in range(19):\n",
    "        fe = FieldElement(k, 19) * FieldElement(i, 19)\n",
    "        print(fe.num, end=\", \")\n",
    "    print()\n",
    "        "
   ]
  },
  {
   "cell_type": "code",
   "execution_count": 7,
   "id": "subjective-eclipse",
   "metadata": {},
   "outputs": [
    {
     "name": "stdout",
     "output_type": "stream",
     "text": [
      "0, 3, 0, 3, 0, 3, "
     ]
    }
   ],
   "source": [
    "k = 3\n",
    "for i in range(6):\n",
    "    fe = FieldElement(k, 6) * FieldElement(i, 6)\n",
    "    print(fe.num, end=\", \") \n",
    "    \n",
    "\n",
    "#   約数で乗算すると小さい集合がえられてしまう\n",
    "#  [0, 1, 2, 3, 4, 5] * 3 => [0, 3]"
   ]
  },
  {
   "cell_type": "code",
   "execution_count": 8,
   "id": "filled-learning",
   "metadata": {},
   "outputs": [
    {
     "name": "stderr",
     "output_type": "stream",
     "text": [
      ".\n",
      "----------------------------------------------------------------------\n",
      "Ran 1 test in 0.001s\n",
      "\n",
      "OK\n"
     ]
    },
    {
     "data": {
      "text/plain": [
       "<unittest.runner.TextTestResult run=1 errors=0 failures=0>"
      ]
     },
     "execution_count": 8,
     "metadata": {},
     "output_type": "execute_result"
    }
   ],
   "source": [
    "#  exercize 6\n",
    "from field_element_test import FieldElementTest\n",
    "from unittest import TestSuite, TextTestRunner\n",
    "\n",
    "suite = TestSuite()\n",
    "suite.addTest(FieldElementTest(\"test_mul\"))\n",
    "TextTestRunner().run(suite)"
   ]
  },
  {
   "cell_type": "code",
   "execution_count": 9,
   "id": "musical-eugene",
   "metadata": {},
   "outputs": [
    {
     "name": "stdout",
     "output_type": "stream",
     "text": [
      "p=7\n",
      "1, 1, 1, 1, 1, \n",
      "p=11\n",
      "1, 1, 1, 1, 1, \n",
      "p=17\n",
      "1, 1, 1, 1, 1, \n",
      "p=31\n",
      "1, 1, 1, 1, 1, \n"
     ]
    }
   ],
   "source": [
    "#  exercize 7\n",
    "for p in [7, 11, 17, 31]:\n",
    "    print('p={}'.format(p))\n",
    "    for i in range(1, 6):\n",
    "        fe = FieldElement(i, p) ** (p - 1)\n",
    "        print(fe.num, end=\", \")\n",
    "    print()\n",
    "        "
   ]
  },
  {
   "cell_type": "code",
   "execution_count": 10,
   "id": "earlier-compilation",
   "metadata": {},
   "outputs": [
    {
     "name": "stdout",
     "output_type": "stream",
     "text": [
      "FieldElement_31(4)\n",
      "FieldElement_31(29)\n",
      "FieldElement_31(13)\n"
     ]
    }
   ],
   "source": [
    "#  exercize 8\n",
    "print(FieldElement(3, 31) / FieldElement(24, 31))\n",
    "#  b^(p-1) = 1 =>17^(-3) = 17^(p-4)\n",
    "print(FieldElement(17, 31) ** (31 - 4))\n",
    "print(FieldElement(4, 31) ** (31 - 5) * FieldElement(11, 31))"
   ]
  },
  {
   "cell_type": "code",
   "execution_count": 11,
   "id": "historic-kingston",
   "metadata": {},
   "outputs": [
    {
     "name": "stderr",
     "output_type": "stream",
     "text": [
      ".\n",
      "----------------------------------------------------------------------\n",
      "Ran 1 test in 0.001s\n",
      "\n",
      "OK\n"
     ]
    },
    {
     "data": {
      "text/plain": [
       "<unittest.runner.TextTestResult run=1 errors=0 failures=0>"
      ]
     },
     "execution_count": 11,
     "metadata": {},
     "output_type": "execute_result"
    }
   ],
   "source": [
    "# exercize 9\n",
    "from field_element_test import FieldElementTest\n",
    "from unittest import TestSuite, TextTestRunner\n",
    "\n",
    "suite = TestSuite()\n",
    "suite.addTest(FieldElementTest(\"test_div\"))\n",
    "TextTestRunner().run(suite)"
   ]
  },
  {
   "cell_type": "code",
   "execution_count": 12,
   "id": "plastic-taxation",
   "metadata": {},
   "outputs": [
    {
     "name": "stdout",
     "output_type": "stream",
     "text": [
      "FieldElement_31(29)\n",
      "FieldElement_31(13)\n"
     ]
    }
   ],
   "source": [
    "print(FieldElement(17, 31) ** -3)\n",
    "print(FieldElement(4, 31) **-4 * FieldElement(11, 31))"
   ]
  }
 ],
 "metadata": {
  "kernelspec": {
   "display_name": "Python 3",
   "language": "python",
   "name": "python3"
  },
  "language_info": {
   "codemirror_mode": {
    "name": "ipython",
    "version": 3
   },
   "file_extension": ".py",
   "mimetype": "text/x-python",
   "name": "python",
   "nbconvert_exporter": "python",
   "pygments_lexer": "ipython3",
   "version": "3.8.2"
  }
 },
 "nbformat": 4,
 "nbformat_minor": 5
}
