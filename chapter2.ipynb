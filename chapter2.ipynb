{
 "cells": [
  {
   "cell_type": "code",
   "execution_count": 7,
   "id": "thirty-shadow",
   "metadata": {},
   "outputs": [],
   "source": [
    "from point import Point\n",
    "\n",
    "p1 = Point(-1, -1, 5, 7)"
   ]
  },
  {
   "cell_type": "code",
   "execution_count": 8,
   "id": "opposite-international",
   "metadata": {},
   "outputs": [
    {
     "ename": "ValueError",
     "evalue": "(-1, -2) is not on the curve",
     "output_type": "error",
     "traceback": [
      "\u001B[0;31m---------------------------------------------------------------------------\u001B[0m",
      "\u001B[0;31mValueError\u001B[0m                                Traceback (most recent call last)",
      "\u001B[0;32m<ipython-input-8-60fe83c64195>\u001B[0m in \u001B[0;36m<module>\u001B[0;34m\u001B[0m\n\u001B[0;32m----> 1\u001B[0;31m \u001B[0mp2\u001B[0m \u001B[0;34m=\u001B[0m \u001B[0mPoint\u001B[0m\u001B[0;34m(\u001B[0m\u001B[0;34m-\u001B[0m\u001B[0;36m1\u001B[0m\u001B[0;34m,\u001B[0m \u001B[0;34m-\u001B[0m\u001B[0;36m2\u001B[0m\u001B[0;34m,\u001B[0m \u001B[0;36m5\u001B[0m\u001B[0;34m,\u001B[0m \u001B[0;36m7\u001B[0m\u001B[0;34m)\u001B[0m\u001B[0;34m\u001B[0m\u001B[0;34m\u001B[0m\u001B[0m\n\u001B[0m",
      "\u001B[0;32m~/Workspace/programmingbidcoin/point.py\u001B[0m in \u001B[0;36m__init__\u001B[0;34m(self, x, y, a, b)\u001B[0m\n\u001B[1;32m      8\u001B[0m         \u001B[0;32mreturn\u001B[0m\u001B[0;34m\u001B[0m\u001B[0;34m\u001B[0m\u001B[0m\n\u001B[1;32m      9\u001B[0m     \u001B[0;32mif\u001B[0m \u001B[0mself\u001B[0m\u001B[0;34m.\u001B[0m\u001B[0my\u001B[0m\u001B[0;34m**\u001B[0m\u001B[0;36m2\u001B[0m \u001B[0;34m!=\u001B[0m \u001B[0mself\u001B[0m\u001B[0;34m.\u001B[0m\u001B[0mx\u001B[0m\u001B[0;34m**\u001B[0m\u001B[0;36m3\u001B[0m \u001B[0;34m+\u001B[0m \u001B[0ma\u001B[0m \u001B[0;34m*\u001B[0m \u001B[0mx\u001B[0m \u001B[0;34m+\u001B[0m \u001B[0mb\u001B[0m\u001B[0;34m:\u001B[0m\u001B[0;34m\u001B[0m\u001B[0;34m\u001B[0m\u001B[0m\n\u001B[0;32m---> 10\u001B[0;31m         \u001B[0;32mraise\u001B[0m \u001B[0mValueError\u001B[0m\u001B[0;34m(\u001B[0m\u001B[0;34m'({}, {}) is not on the curve'\u001B[0m\u001B[0;34m.\u001B[0m\u001B[0mformat\u001B[0m\u001B[0;34m(\u001B[0m\u001B[0mx\u001B[0m\u001B[0;34m,\u001B[0m \u001B[0my\u001B[0m\u001B[0;34m)\u001B[0m\u001B[0;34m)\u001B[0m\u001B[0;34m\u001B[0m\u001B[0;34m\u001B[0m\u001B[0m\n\u001B[0m\u001B[1;32m     11\u001B[0m \u001B[0;34m\u001B[0m\u001B[0m\n\u001B[1;32m     12\u001B[0m   \u001B[0;32mdef\u001B[0m \u001B[0m__repr__\u001B[0m\u001B[0;34m(\u001B[0m\u001B[0mself\u001B[0m\u001B[0;34m)\u001B[0m\u001B[0;34m:\u001B[0m\u001B[0;34m\u001B[0m\u001B[0;34m\u001B[0m\u001B[0m\n",
      "\u001B[0;31mValueError\u001B[0m: (-1, -2) is not on the curve"
     ]
    }
   ],
   "source": [
    "p2 = Point(-1, -2, 5, 7)"
   ]
  },
  {
   "cell_type": "code",
   "execution_count": 12,
   "id": "attempted-literacy",
   "metadata": {},
   "outputs": [
    {
     "name": "stdout",
     "output_type": "stream",
     "text": [
      "(2, 4) is not on the curve\n",
      "(5, 7) is not on the curve\n"
     ]
    }
   ],
   "source": [
    "# exercize 1\n",
    "\n",
    "for p in [(2, 4), (-1, -1), (18, 77), (5, 7)]:\n",
    "    try:\n",
    "        Point(p[0], p[1], 5, 7)\n",
    "    except ValueError as e:\n",
    "        print(e)"
   ]
  },
  {
   "cell_type": "code",
   "execution_count": 13,
   "id": "severe-colony",
   "metadata": {},
   "outputs": [
    {
     "name": "stdout",
     "output_type": "stream",
     "text": [
      "3.0 -7.0\n"
     ]
    }
   ],
   "source": [
    "# exercize 4, 5\n",
    "#  y^2 = x^3 + 5x + 7\n",
    "\n",
    "p1 = Point(2, 5, 5, 7)\n",
    "p2 = Point(-1, -1, 5, 7)\n",
    "p3 = p1 + p2\n",
    "print(p3.x, p3.y)"
   ]
  },
  {
   "cell_type": "code",
   "execution_count": 14,
   "id": "stopped-breast",
   "metadata": {},
   "outputs": [
    {
     "name": "stdout",
     "output_type": "stream",
     "text": [
      "18.0 77.0\n"
     ]
    }
   ],
   "source": [
    "#  exercize 6\n",
    "\n",
    "p1 = Point(-1, -1, 5, 7)\n",
    "p2 = Point(-1, -1, 5, 7)\n",
    "p3 = p1 + p2\n",
    "print(p3.x, p3.y)"
   ]
  },
  {
   "cell_type": "code",
   "execution_count": null,
   "id": "secure-guidance",
   "metadata": {},
   "outputs": [],
   "source": []
  }
 ],
 "metadata": {
  "kernelspec": {
   "display_name": "Python 3",
   "language": "python",
   "name": "python3"
  },
  "language_info": {
   "codemirror_mode": {
    "name": "ipython",
    "version": 3
   },
   "file_extension": ".py",
   "mimetype": "text/x-python",
   "name": "python",
   "nbconvert_exporter": "python",
   "pygments_lexer": "ipython3",
   "version": "3.8.2"
  }
 },
 "nbformat": 4,
 "nbformat_minor": 5
}